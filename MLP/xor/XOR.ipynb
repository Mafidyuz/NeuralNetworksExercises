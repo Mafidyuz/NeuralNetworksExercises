{
 "cells": [
  {
   "cell_type": "code",
   "execution_count": 1,
   "metadata": {},
   "outputs": [],
   "source": [
    "import numpy as np\n",
    "import pandas as pd\n",
    "from sklearn.neural_network import MLPClassifier\n",
    "from sklearn.model_selection import train_test_split\n",
    "import functools\n",
    "import matplotlib.pyplot as plt\n",
    "import math"
   ]
  },
  {
   "cell_type": "code",
   "execution_count": 2,
   "metadata": {},
   "outputs": [],
   "source": [
    "def binary(n,k):\n",
    "    s = bin(n).split('b')[1]\n",
    "    return [0 for i in range(k-len(s))] + [int(c) for c in s]\n",
    "\n",
    "def binary_table(n):\n",
    "    table = []\n",
    "    for i in range(n):\n",
    "        table.append(binary(i, int(math.log2(n))))\n",
    "    return table\n",
    "\n",
    "foldl = lambda func, acc, xs: functools.reduce(func, xs, acc)\n",
    "\n",
    "X = binary_table(2**16)\n",
    "y = list(map(lambda x : foldl((lambda a,b : a ^ b), 0, x), X))"
   ]
  },
  {
   "cell_type": "code",
   "execution_count": 3,
   "metadata": {},
   "outputs": [],
   "source": [
    "X_train,X_test, y_train, y_test = train_test_split(X, y, test_size=0.3)"
   ]
  },
  {
   "cell_type": "code",
   "execution_count": 5,
   "metadata": {},
   "outputs": [
    {
     "name": "stdout",
     "output_type": "stream",
     "text": [
      "Percentuale test classificati corretti: 99.44% \n"
     ]
    }
   ],
   "source": [
    "nn=MLPClassifier(activation='tanh', solver='lbfgs', hidden_layer_sizes=(30,), \n",
    "                 max_iter=10000, learning_rate_init=0.2)\n",
    "nn.fit(X_train,y_train)\n",
    "\n",
    "pred = nn.predict(X_test)\n",
    "\n",
    "print(\"Percentuale test classificati corretti: {}% \".format(round(list(pred == y_test).count(True) / len(pred) * 100, 2)))"
   ]
  },
  {
   "cell_type": "code",
   "execution_count": null,
   "metadata": {},
   "outputs": [],
   "source": []
  }
 ],
 "metadata": {
  "kernelspec": {
   "display_name": "Python 3",
   "language": "python",
   "name": "python3"
  },
  "language_info": {
   "codemirror_mode": {
    "name": "ipython",
    "version": 3
   },
   "file_extension": ".py",
   "mimetype": "text/x-python",
   "name": "python",
   "nbconvert_exporter": "python",
   "pygments_lexer": "ipython3",
   "version": "3.7.3"
  }
 },
 "nbformat": 4,
 "nbformat_minor": 2
}
