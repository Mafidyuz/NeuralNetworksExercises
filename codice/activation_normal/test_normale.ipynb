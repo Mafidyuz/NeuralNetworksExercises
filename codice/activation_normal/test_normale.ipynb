{
 "cells": [
  {
   "cell_type": "markdown",
   "metadata": {},
   "source": [
    "$$\\frac{d}{dx}N(x,0,1)=\\frac{d}{dx}\\left(\\frac{1}{\\sqrt{2\\pi}}e^{-\\frac{x^2}{2}}\\right)$$\n",
    "$$=\\frac{1}{\\:\\sqrt{2\\pi}}\\frac{d}{dx}\\left(e^{-\\frac{x^2}{2}}\\right)$$\n",
    "$$=\\frac{1}{\\:\\sqrt{2\\pi}}e^{-\\frac{\\left(x\\:\\right)^2}{2}}\\cdot \\frac{d}{dx}\\left(-\\frac{x^2}{2}\\right)$$\n",
    "$$=-x\\frac{e^{-\\frac{x^2}{2}}}{\\sqrt{2\\pi}}$$"
   ]
  },
  {
   "cell_type": "code",
   "execution_count": 2,
   "metadata": {},
   "outputs": [],
   "source": [
    "from sklearn.neural_network import MLPClassifier\n",
    "from sklearn.datasets import load_iris"
   ]
  },
  {
   "cell_type": "code",
   "execution_count": 26,
   "metadata": {},
   "outputs": [
    {
     "name": "stdout",
     "output_type": "stream",
     "text": [
      "\n",
      "Accuracy: 0.50 (+/- 0.23)\n"
     ]
    },
    {
     "data": {
      "text/plain": [
       "array([0.66, 0.44, 0.4 ])"
      ]
     },
     "execution_count": 26,
     "metadata": {},
     "output_type": "execute_result"
    }
   ],
   "source": [
    "from sklearn.model_selection import GridSearchCV, cross_val_score\n",
    "\n",
    "iris = load_iris()\n",
    "X = iris['data']\n",
    "y = iris['target']\n",
    "\n",
    "params = {'hidden_layer_sizes' : [(8), (10), (3,3), (2)]}\n",
    "\n",
    "mlp = MLPClassifier(activation='normal', max_iter=200, learning_rate_init=0.1)\n",
    "\n",
    "clf = GridSearchCV(mlp, params, n_jobs=-1, cv=5)\n",
    "scores = cross_val_score(clf, X, y, cv=3)\n",
    "print(\"\\nAccuracy: %0.2f (+/- %0.2f)\" % (scores.mean(), scores.std() * 2))\n",
    "scores"
   ]
  },
  {
   "cell_type": "code",
   "execution_count": 11,
   "metadata": {},
   "outputs": [
    {
     "data": {
      "text/plain": [
       "GridSearchCV(cv=5,\n",
       "             estimator=MLPClassifier(activation='normal',\n",
       "                                     learning_rate_init=0.01, max_iter=1000,\n",
       "                                     solver='sgd'),\n",
       "             n_jobs=-1, param_grid={'hidden_layer_sizes': [8, 10, (3, 3), 2]})"
      ]
     },
     "execution_count": 11,
     "metadata": {},
     "output_type": "execute_result"
    }
   ],
   "source": [
    "clf.fit(X,y)"
   ]
  },
  {
   "cell_type": "code",
   "execution_count": null,
   "metadata": {},
   "outputs": [],
   "source": []
  },
  {
   "cell_type": "code",
   "execution_count": null,
   "metadata": {},
   "outputs": [],
   "source": []
  }
 ],
 "metadata": {
  "kernelspec": {
   "display_name": "Python 3",
   "language": "python",
   "name": "python3"
  },
  "language_info": {
   "codemirror_mode": {
    "name": "ipython",
    "version": 3
   },
   "file_extension": ".py",
   "mimetype": "text/x-python",
   "name": "python",
   "nbconvert_exporter": "python",
   "pygments_lexer": "ipython3",
   "version": "3.7.3"
  }
 },
 "nbformat": 4,
 "nbformat_minor": 2
}
