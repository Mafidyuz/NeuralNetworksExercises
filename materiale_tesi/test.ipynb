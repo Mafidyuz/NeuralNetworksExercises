{
 "cells": [
  {
   "cell_type": "code",
   "execution_count": 1,
   "metadata": {},
   "outputs": [],
   "source": [
    "import numpy as np\n",
    "import pandas as pd"
   ]
  },
  {
   "cell_type": "code",
   "execution_count": 2,
   "metadata": {},
   "outputs": [
    {
     "data": {
      "text/html": [
       "<div>\n",
       "<style scoped>\n",
       "    .dataframe tbody tr th:only-of-type {\n",
       "        vertical-align: middle;\n",
       "    }\n",
       "\n",
       "    .dataframe tbody tr th {\n",
       "        vertical-align: top;\n",
       "    }\n",
       "\n",
       "    .dataframe thead th {\n",
       "        text-align: right;\n",
       "    }\n",
       "</style>\n",
       "<table border=\"1\" class=\"dataframe\">\n",
       "  <thead>\n",
       "    <tr style=\"text-align: right;\">\n",
       "      <th></th>\n",
       "      <th>VERBALE</th>\n",
       "      <th>DATA</th>\n",
       "      <th>SESSO</th>\n",
       "      <th>ANNI</th>\n",
       "      <th>PESO</th>\n",
       "      <th>ALTEZZA</th>\n",
       "      <th>BMI</th>\n",
       "      <th>Mezzo</th>\n",
       "      <th>Testa:Neurocranio</th>\n",
       "      <th>Testa:Splancnocranio</th>\n",
       "      <th>...</th>\n",
       "      <th>Scheletro:Rachide-cervicale</th>\n",
       "      <th>Scheletro:Rachide-toracico</th>\n",
       "      <th>Scheletro:Rachide-lombare</th>\n",
       "      <th>Scheletro:Bacino-e-sacro</th>\n",
       "      <th>Scheletro:Complesso-sterno/claveo/costale</th>\n",
       "      <th>Tot Testa</th>\n",
       "      <th>Tot Torace</th>\n",
       "      <th>Tot Addome</th>\n",
       "      <th>Tot Scheletro</th>\n",
       "      <th>Totale</th>\n",
       "    </tr>\n",
       "  </thead>\n",
       "  <tbody>\n",
       "    <tr>\n",
       "      <th>0</th>\n",
       "      <td>85567</td>\n",
       "      <td>1999-10-29</td>\n",
       "      <td>0</td>\n",
       "      <td>81</td>\n",
       "      <td>84.0</td>\n",
       "      <td>1.75</td>\n",
       "      <td>27.428571</td>\n",
       "      <td>0</td>\n",
       "      <td>1</td>\n",
       "      <td>0</td>\n",
       "      <td>...</td>\n",
       "      <td>0</td>\n",
       "      <td>3</td>\n",
       "      <td>0</td>\n",
       "      <td>3</td>\n",
       "      <td>3</td>\n",
       "      <td>2</td>\n",
       "      <td>0</td>\n",
       "      <td>3</td>\n",
       "      <td>9</td>\n",
       "      <td>14</td>\n",
       "    </tr>\n",
       "    <tr>\n",
       "      <th>1</th>\n",
       "      <td>85829</td>\n",
       "      <td>2000-01-14</td>\n",
       "      <td>1</td>\n",
       "      <td>69</td>\n",
       "      <td>69.0</td>\n",
       "      <td>1.62</td>\n",
       "      <td>26.291724</td>\n",
       "      <td>1</td>\n",
       "      <td>4</td>\n",
       "      <td>4</td>\n",
       "      <td>...</td>\n",
       "      <td>0</td>\n",
       "      <td>0</td>\n",
       "      <td>0</td>\n",
       "      <td>0</td>\n",
       "      <td>4</td>\n",
       "      <td>20</td>\n",
       "      <td>7</td>\n",
       "      <td>1</td>\n",
       "      <td>4</td>\n",
       "      <td>32</td>\n",
       "    </tr>\n",
       "    <tr>\n",
       "      <th>2</th>\n",
       "      <td>85977</td>\n",
       "      <td>2000-03-10</td>\n",
       "      <td>1</td>\n",
       "      <td>71</td>\n",
       "      <td>67.0</td>\n",
       "      <td>1.55</td>\n",
       "      <td>27.887617</td>\n",
       "      <td>1</td>\n",
       "      <td>2</td>\n",
       "      <td>0</td>\n",
       "      <td>...</td>\n",
       "      <td>0</td>\n",
       "      <td>0</td>\n",
       "      <td>0</td>\n",
       "      <td>0</td>\n",
       "      <td>4</td>\n",
       "      <td>6</td>\n",
       "      <td>0</td>\n",
       "      <td>0</td>\n",
       "      <td>4</td>\n",
       "      <td>10</td>\n",
       "    </tr>\n",
       "    <tr>\n",
       "      <th>3</th>\n",
       "      <td>86220</td>\n",
       "      <td>2000-06-14</td>\n",
       "      <td>1</td>\n",
       "      <td>54</td>\n",
       "      <td>60.0</td>\n",
       "      <td>1.59</td>\n",
       "      <td>23.733238</td>\n",
       "      <td>1</td>\n",
       "      <td>4</td>\n",
       "      <td>0</td>\n",
       "      <td>...</td>\n",
       "      <td>0</td>\n",
       "      <td>0</td>\n",
       "      <td>0</td>\n",
       "      <td>0</td>\n",
       "      <td>4</td>\n",
       "      <td>5</td>\n",
       "      <td>3</td>\n",
       "      <td>2</td>\n",
       "      <td>4</td>\n",
       "      <td>14</td>\n",
       "    </tr>\n",
       "    <tr>\n",
       "      <th>4</th>\n",
       "      <td>86247</td>\n",
       "      <td>2000-06-22</td>\n",
       "      <td>1</td>\n",
       "      <td>78</td>\n",
       "      <td>69.0</td>\n",
       "      <td>1.67</td>\n",
       "      <td>24.740937</td>\n",
       "      <td>1</td>\n",
       "      <td>2</td>\n",
       "      <td>0</td>\n",
       "      <td>...</td>\n",
       "      <td>0</td>\n",
       "      <td>0</td>\n",
       "      <td>0</td>\n",
       "      <td>0</td>\n",
       "      <td>4</td>\n",
       "      <td>2</td>\n",
       "      <td>0</td>\n",
       "      <td>2</td>\n",
       "      <td>4</td>\n",
       "      <td>8</td>\n",
       "    </tr>\n",
       "  </tbody>\n",
       "</table>\n",
       "<p>5 rows × 33 columns</p>\n",
       "</div>"
      ],
      "text/plain": [
       "  VERBALE       DATA  SESSO  ANNI  PESO  ALTEZZA        BMI  Mezzo  \\\n",
       "0   85567 1999-10-29      0    81  84.0     1.75  27.428571      0   \n",
       "1   85829 2000-01-14      1    69  69.0     1.62  26.291724      1   \n",
       "2   85977 2000-03-10      1    71  67.0     1.55  27.887617      1   \n",
       "3   86220 2000-06-14      1    54  60.0     1.59  23.733238      1   \n",
       "4   86247 2000-06-22      1    78  69.0     1.67  24.740937      1   \n",
       "\n",
       "   Testa:Neurocranio  Testa:Splancnocranio  ...  Scheletro:Rachide-cervicale  \\\n",
       "0                  1                     0  ...                            0   \n",
       "1                  4                     4  ...                            0   \n",
       "2                  2                     0  ...                            0   \n",
       "3                  4                     0  ...                            0   \n",
       "4                  2                     0  ...                            0   \n",
       "\n",
       "   Scheletro:Rachide-toracico  Scheletro:Rachide-lombare  \\\n",
       "0                           3                          0   \n",
       "1                           0                          0   \n",
       "2                           0                          0   \n",
       "3                           0                          0   \n",
       "4                           0                          0   \n",
       "\n",
       "   Scheletro:Bacino-e-sacro  Scheletro:Complesso-sterno/claveo/costale  \\\n",
       "0                         3                                          3   \n",
       "1                         0                                          4   \n",
       "2                         0                                          4   \n",
       "3                         0                                          4   \n",
       "4                         0                                          4   \n",
       "\n",
       "   Tot Testa  Tot Torace  Tot Addome  Tot Scheletro  Totale  \n",
       "0          2           0           3              9      14  \n",
       "1         20           7           1              4      32  \n",
       "2          6           0           0              4      10  \n",
       "3          5           3           2              4      14  \n",
       "4          2           0           2              4       8  \n",
       "\n",
       "[5 rows x 33 columns]"
      ]
     },
     "execution_count": 2,
     "metadata": {},
     "output_type": "execute_result"
    }
   ],
   "source": [
    "df = pd.read_excel('IncidentiModificato.xlsx')\n",
    "df.head()"
   ]
  },
  {
   "cell_type": "code",
   "execution_count": 3,
   "metadata": {},
   "outputs": [],
   "source": [
    "X = df.drop(columns=['VERBALE', 'DATA', 'Mezzo'])\n",
    "y = df['Mezzo']"
   ]
  },
  {
   "cell_type": "code",
   "execution_count": 4,
   "metadata": {},
   "outputs": [],
   "source": [
    "def scatter(x, labels):\n",
    "    palette = np.array(sns.color_palette(\"colorblind\", 3))\n",
    "\n",
    "    f = plt.figure(figsize=(8, 8))\n",
    "    ax = plt.subplot()\n",
    "    sc = ax.scatter(x[:,0], x[:,1], c=palette[list(labels)], alpha=0.7)\n",
    "    \n",
    "    ax.axis('off')\n",
    "\n",
    "    txts = []\n",
    "    for i in range(2):\n",
    "        # Ogni label viene posta nella mediana dei punti corrispondenti.\n",
    "        xtext, ytext = np.median(x[labels == i, :], axis=0)\n",
    "        txt = ax.text(xtext, ytext, [0,1][i], fontsize=18)\n",
    "        txt.set_path_effects([\n",
    "            PathEffects.Stroke(linewidth=5, foreground=\"w\"),\n",
    "            PathEffects.Normal()])\n",
    "        txts.append(txt)\n",
    "    \n",
    "    return f, ax, sc, txts"
   ]
  },
  {
   "cell_type": "code",
   "execution_count": 6,
   "metadata": {},
   "outputs": [],
   "source": [
    "import matplotlib.patheffects as PathEffects\n",
    "import matplotlib.pyplot as plt\n",
    "from sklearn.decomposition import PCA\n",
    "import seaborn as sns\n",
    "\n",
    "pca = PCA(n_components=2)\n",
    "X_pca = pca.fit_transform(X)"
   ]
  },
  {
   "cell_type": "code",
   "execution_count": 7,
   "metadata": {},
   "outputs": [
    {
     "data": {
      "image/png": "[encoded data removed]",
      "text/plain": [
       "<Figure size 576x576 with 1 Axes>"
      ]
     },
     "metadata": {
      "needs_background": "light"
     },
     "output_type": "display_data"
    }
   ],
   "source": [
    "fig_pca, ax_pca, _, _ = scatter(X_pca, y.astype(int))\n",
    "plt.show()"
   ]
  },
  {
   "cell_type": "code",
   "execution_count": 8,
   "metadata": {},
   "outputs": [
    {
     "data": {
      "image/png": "[encoded data removed]",
      "text/plain": [
       "<Figure size 576x576 with 1 Axes>"
      ]
     },
     "metadata": {
      "needs_background": "light"
     },
     "output_type": "display_data"
    }
   ],
   "source": [
    "from sklearn.manifold import TSNE\n",
    "\n",
    "X_tsne = TSNE(perplexity=40, n_iter = 500, method='exact').fit_transform(X)\n",
    "\n",
    "fig_tsne, ax_tsne, _, _ = scatter(X_tsne, y.astype(int))\n",
    "plt.show()"
   ]
  },
  {
   "cell_type": "code",
   "execution_count": 11,
   "metadata": {},
   "outputs": [],
   "source": [
    "from sklearn import random_projection\n",
    "X = np.random.rand(100, 10000)\n",
    "transformer = random_projection.SparseRandomProjection()\n",
    "X_new = transformer.fit_transform(X)\n"
   ]
  },
  {
   "cell_type": "code",
   "execution_count": 13,
   "metadata": {},
   "outputs": [
    {
     "data": {
      "text/plain": [
       "array([[-0.55705359,  0.30126125,  0.27359841, ...,  0.97966467,\n",
       "        -1.25800612, -0.27939871],\n",
       "       [-0.56506401,  0.39653749, -0.35083156, ...,  1.10426366,\n",
       "         0.03876796, -0.49628476],\n",
       "       [-0.30608794, -0.4027293 ,  0.64504722, ...,  1.55151493,\n",
       "        -0.7607338 ,  0.5233646 ],\n",
       "       ...,\n",
       "       [-0.35089608, -0.13110466, -0.48200803, ...,  1.50400802,\n",
       "        -0.47671537, -0.3811736 ],\n",
       "       [-0.51796047, -0.21745288,  0.45967029, ...,  0.67536285,\n",
       "        -0.8880233 ,  0.60050853],\n",
       "       [-1.04573405,  0.13357546, -0.61846221, ...,  2.05756782,\n",
       "        -0.99825226, -1.23381067]])"
      ]
     },
     "execution_count": 13,
     "metadata": {},
     "output_type": "execute_result"
    }
   ],
   "source": []
  },
  {
   "cell_type": "code",
   "execution_count": null,
   "metadata": {},
   "outputs": [],
   "source": []
  }
 ],
 "metadata": {
  "kernelspec": {
   "display_name": "Python 3",
   "language": "python",
   "name": "python3"
  },
  "language_info": {
   "codemirror_mode": {
    "name": "ipython",
    "version": 3
   },
   "file_extension": ".py",
   "mimetype": "text/x-python",
   "name": "python",
   "nbconvert_exporter": "python",
   "pygments_lexer": "ipython3",
   "version": "3.7.3"
  }
 },
 "nbformat": 4,
 "nbformat_minor": 2
}
